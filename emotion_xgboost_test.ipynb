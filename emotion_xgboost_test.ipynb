{
 "cells": [
  {
   "cell_type": "markdown",
   "metadata": {},
   "source": [
    "## 使用xgboost分析文本情感\n",
    "- 输入数据：使用` gensim.models.doc2vec.Doc2Vec(dm=0,dbow_words=1,size=80,min_count=2,iter=55,workers=cores,window=8)`构建PV_DBOW_model模型生成的文本向量\n",
    "- 模型：使用xgb.sklearn.XGBClassifier。XGBoost Library疑因参数/训练数据数值向下溢出导致内存报错，因此本文没有直接使用xgboost库来构建模型。"
   ]
  },
  {
   "cell_type": "code",
   "execution_count": 11,
   "metadata": {},
   "outputs": [],
   "source": [
    "#计算均方根误差RMSE\n",
    "from __future__ import division\n",
    "def calc_rmse(forecast,real):\n",
    "    diff = (forecast-real)**2\n",
    "    rmse = np.sqrt(diff.sum()/len(forecast))\n",
    "    return rmse    "
   ]
  },
  {
   "cell_type": "code",
   "execution_count": 2,
   "metadata": {},
   "outputs": [],
   "source": [
    "import xgboost as xgb\n",
    "import numpy as np \n",
    "import pandas as pd\n",
    "import sklearn\n",
    "from bayes_opt import BayesianOptimization\n",
    "from sklearn.model_selection import GridSearchCV"
   ]
  },
  {
   "cell_type": "code",
   "execution_count": 3,
   "metadata": {},
   "outputs": [],
   "source": [
    "xgb1 = xgb.sklearn.XGBClassifier(\n",
    " learning_rate =0.5,\n",
    " n_estimators=50,\n",
    " max_depth=10,\n",
    " min_child_weight=0.01,\n",
    " gamma=10.368977976003487,\n",
    " subsample=0.01,\n",
    " colsample_bytree=0.01,\n",
    " objective='multi:softmax',\n",
    " nthread=4,\n",
    " scale_pos_weight=1,\n",
    " reg_lambda=0.01,\n",
    " reg_alpha=0.01,\n",
    " seed=27)  "
   ]
  },
  {
   "cell_type": "code",
   "execution_count": 4,
   "metadata": {},
   "outputs": [],
   "source": [
    "pd_train = pd.read_csv('./data/pd_train.csv')\n",
    "pd_test = pd.read_csv('./data/pd_test.csv')\n",
    "pd_predict = pd.read_csv('./data/pd_predict.csv')"
   ]
  },
  {
   "cell_type": "code",
   "execution_count": 5,
   "metadata": {},
   "outputs": [],
   "source": [
    "#训练xgboost模型\n",
    "def modelfit1(alg, train_data_features, train_labels,predict_data_features,useTrainCV=True, cv_folds=5):\n",
    "\n",
    "    if useTrainCV:\n",
    "        params=alg.get_xgb_params()\n",
    "        xgb_param=dict([(key,[params[key]]) for key in params])\n",
    "\n",
    "        boost = xgb.sklearn.XGBClassifier()\n",
    "        cvresult = GridSearchCV(boost,xgb_param,cv=cv_folds)\n",
    "        cvresult.fit(train_data_features, train_labels)\n",
    "        alg=cvresult.best_estimator_\n",
    "\n",
    "    #Fit the algorithm on the data\n",
    "    alg.fit(train_data_features, train_labels)\n",
    "\n",
    "    #Predict training set:\n",
    "    dtrain_predictions = alg.predict(predict_data_features)\n",
    "    #dtrain_predprob = alg.predict_proba(train_data_features)[:,1]\n",
    "    return dtrain_predictions"
   ]
  },
  {
   "cell_type": "code",
   "execution_count": null,
   "metadata": {},
   "outputs": [],
   "source": [
    "import sklearn\n",
    "# 训练模型，打印正确率\n",
    "def modelfit(alg, train_data_features, train_labels,useTrainCV=True, cv_folds=5):\n",
    "\n",
    "    if useTrainCV:\n",
    "        params=alg.get_xgb_params()\n",
    "        xgb_param=dict([(key,[params[key]]) for key in params])\n",
    "\n",
    "        boost = xgb.sklearn.XGBClassifier()\n",
    "        cvresult = GridSearchCV(boost,xgb_param,cv=cv_folds)\n",
    "        cvresult.fit(train_data_features, train_labels)\n",
    "        alg=cvresult.best_estimator_\n",
    "\n",
    "\n",
    "    #Fit the algorithm on the data\n",
    "    alg.fit(train_data_features, train_labels)\n",
    "\n",
    "    #Predict training set:\n",
    "    dtrain_predictions = alg.predict(train_data_features)\n",
    "    dtrain_predprob = alg.predict_proba(train_data_features)[:,1]\n",
    "    \n",
    "    #Print model report:\n",
    "    print(\"\\nModel Report\")\n",
    "    print(\"Accuracy : %.4g\" % sklearn.metrics.accuracy_score(train_labels, dtrain_predictions))"
   ]
  },
  {
   "cell_type": "code",
   "execution_count": 6,
   "metadata": {},
   "outputs": [
    {
     "name": "stderr",
     "output_type": "stream",
     "text": [
      "/usr/local/lib/python2.7/dist-packages/sklearn/preprocessing/label.py:151: DeprecationWarning: The truth value of an empty array is ambiguous. Returning False, but in future this will result in an error. Use `array.size > 0` to check that an array is not empty.\n",
      "  if diff:\n",
      "/usr/local/lib/python2.7/dist-packages/sklearn/preprocessing/label.py:151: DeprecationWarning: The truth value of an empty array is ambiguous. Returning False, but in future this will result in an error. Use `array.size > 0` to check that an array is not empty.\n",
      "  if diff:\n",
      "/usr/local/lib/python2.7/dist-packages/sklearn/preprocessing/label.py:151: DeprecationWarning: The truth value of an empty array is ambiguous. Returning False, but in future this will result in an error. Use `array.size > 0` to check that an array is not empty.\n",
      "  if diff:\n",
      "/usr/local/lib/python2.7/dist-packages/sklearn/preprocessing/label.py:151: DeprecationWarning: The truth value of an empty array is ambiguous. Returning False, but in future this will result in an error. Use `array.size > 0` to check that an array is not empty.\n",
      "  if diff:\n",
      "/usr/local/lib/python2.7/dist-packages/sklearn/preprocessing/label.py:151: DeprecationWarning: The truth value of an empty array is ambiguous. Returning False, but in future this will result in an error. Use `array.size > 0` to check that an array is not empty.\n",
      "  if diff:\n",
      "/usr/local/lib/python2.7/dist-packages/sklearn/preprocessing/label.py:151: DeprecationWarning: The truth value of an empty array is ambiguous. Returning False, but in future this will result in an error. Use `array.size > 0` to check that an array is not empty.\n",
      "  if diff:\n",
      "/usr/local/lib/python2.7/dist-packages/sklearn/preprocessing/label.py:151: DeprecationWarning: The truth value of an empty array is ambiguous. Returning False, but in future this will result in an error. Use `array.size > 0` to check that an array is not empty.\n",
      "  if diff:\n",
      "/usr/local/lib/python2.7/dist-packages/sklearn/preprocessing/label.py:151: DeprecationWarning: The truth value of an empty array is ambiguous. Returning False, but in future this will result in an error. Use `array.size > 0` to check that an array is not empty.\n",
      "  if diff:\n",
      "/usr/local/lib/python2.7/dist-packages/sklearn/preprocessing/label.py:151: DeprecationWarning: The truth value of an empty array is ambiguous. Returning False, but in future this will result in an error. Use `array.size > 0` to check that an array is not empty.\n",
      "  if diff:\n",
      "/usr/local/lib/python2.7/dist-packages/sklearn/preprocessing/label.py:151: DeprecationWarning: The truth value of an empty array is ambiguous. Returning False, but in future this will result in an error. Use `array.size > 0` to check that an array is not empty.\n",
      "  if diff:\n"
     ]
    },
    {
     "name": "stdout",
     "output_type": "stream",
     "text": [
      "CPU times: user 1min 56s, sys: 256 ms, total: 1min 56s\n",
      "Wall time: 33.2 s\n"
     ]
    },
    {
     "name": "stderr",
     "output_type": "stream",
     "text": [
      "/usr/local/lib/python2.7/dist-packages/sklearn/preprocessing/label.py:151: DeprecationWarning: The truth value of an empty array is ambiguous. Returning False, but in future this will result in an error. Use `array.size > 0` to check that an array is not empty.\n",
      "  if diff:\n"
     ]
    }
   ],
   "source": [
    "feature = [str(i) for i in range(80)]\n",
    "%time test = modelfit1(xgb1,pd_train[feature],pd_train['score'],pd_test[feature])"
   ]
  },
  {
   "cell_type": "code",
   "execution_count": 7,
   "metadata": {},
   "outputs": [],
   "source": [
    "#计算均方根误差RMSE\n",
    "from __future__ import division\n",
    "def calc_rmse(forecast,real):\n",
    "    diff = (forecast-real)**2\n",
    "    rmse = np.sqrt(diff.sum()/len(forecast))\n",
    "    return rmse"
   ]
  },
  {
   "cell_type": "code",
   "execution_count": 8,
   "metadata": {},
   "outputs": [],
   "source": [
    "rmse = calc_rmse(test,pd_test.score)"
   ]
  },
  {
   "cell_type": "code",
   "execution_count": 9,
   "metadata": {},
   "outputs": [],
   "source": [
    "score = 1/(1+rmse)"
   ]
  },
  {
   "cell_type": "code",
   "execution_count": 10,
   "metadata": {},
   "outputs": [
    {
     "data": {
      "text/plain": [
       "0.4613807295412556"
      ]
     },
     "execution_count": 10,
     "metadata": {},
     "output_type": "execute_result"
    }
   ],
   "source": [
    "score"
   ]
  }
 ],
 "metadata": {
  "kernelspec": {
   "display_name": "Python 2",
   "language": "python",
   "name": "python2"
  },
  "language_info": {
   "codemirror_mode": {
    "name": "ipython",
    "version": 2
   },
   "file_extension": ".py",
   "mimetype": "text/x-python",
   "name": "python",
   "nbconvert_exporter": "python",
   "pygments_lexer": "ipython2",
   "version": "2.7.12"
  }
 },
 "nbformat": 4,
 "nbformat_minor": 2
}
